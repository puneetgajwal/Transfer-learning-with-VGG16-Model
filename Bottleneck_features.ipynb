{
 "cells": [
  {
   "cell_type": "code",
   "execution_count": 3,
   "metadata": {},
   "outputs": [],
   "source": [
    "import numpy as np  \n",
    "from keras.preprocessing.image import ImageDataGenerator, img_to_array, load_img  \n",
    "from keras.models import Sequential  \n",
    "from keras.layers import Dropout, Flatten, Dense  \n",
    "from keras import applications  \n",
    "from keras.utils.np_utils import to_categorical  \n",
    "import matplotlib.pyplot as plt  \n",
    "import math  \n",
    "import cv2  "
   ]
  },
  {
   "cell_type": "code",
   "execution_count": 4,
   "metadata": {},
   "outputs": [],
   "source": [
    "# dimensions of our images.  \n",
    "img_width, img_height = 150, 150  "
   ]
  },
  {
   "cell_type": "code",
   "execution_count": 5,
   "metadata": {},
   "outputs": [],
   "source": [
    "top_model_weights_path = 'bottleneck_fc_model.h5'  \n",
    "train_data_dir = 'data/train'  \n",
    "validation_data_dir = 'data/test'  \n"
   ]
  },
  {
   "cell_type": "code",
   "execution_count": 6,
   "metadata": {},
   "outputs": [],
   "source": [
    "# number of epochs to train top model  \n",
    "epochs = 50  \n",
    "# batch size used by flow_from_directory and predict_generator  \n",
    "batch_size = 16 "
   ]
  },
  {
   "cell_type": "code",
   "execution_count": 7,
   "metadata": {},
   "outputs": [
    {
     "name": "stdout",
     "output_type": "stream",
     "text": [
      "Found 2000 images belonging to 2 classes.\n"
     ]
    }
   ],
   "source": [
    "datagen = ImageDataGenerator(rescale=1. / 255)  \n",
    "   \n",
    "generator = datagen.flow_from_directory(  \n",
    "    train_data_dir,  \n",
    "    target_size=(img_width, img_height),  \n",
    "    batch_size=batch_size,  \n",
    "    class_mode=None,  \n",
    "    shuffle=False)  "
   ]
  },
  {
   "cell_type": "code",
   "execution_count": 8,
   "metadata": {},
   "outputs": [],
   "source": [
    "nb_train_samples = len(generator.filenames)  # no. of images in train set\n",
    "num_classes = len(generator.class_indices)   # no. of classes"
   ]
  },
  {
   "cell_type": "code",
   "execution_count": 9,
   "metadata": {},
   "outputs": [],
   "source": [
    "predict_size_train = int(math.ceil(nb_train_samples / batch_size)) "
   ]
  },
  {
   "cell_type": "code",
   "execution_count": 11,
   "metadata": {},
   "outputs": [],
   "source": [
    "model = applications.VGG16(include_top=False, weights='imagenet')"
   ]
  },
  {
   "cell_type": "code",
   "execution_count": 13,
   "metadata": {},
   "outputs": [],
   "source": [
    "bottleneck_features_train = model.predict(  \n",
    "     generator, predict_size_train) "
   ]
  },
  {
   "cell_type": "code",
   "execution_count": 14,
   "metadata": {},
   "outputs": [
    {
     "name": "stdout",
     "output_type": "stream",
     "text": [
      "Found 800 images belonging to 2 classes.\n"
     ]
    }
   ],
   "source": [
    "# We do the same for the validation data\n",
    "generator = datagen.flow_from_directory(  \n",
    "     validation_data_dir,  \n",
    "     target_size=(img_width, img_height),  \n",
    "     batch_size=batch_size,  \n",
    "     class_mode=None,  \n",
    "     shuffle=False)"
   ]
  },
  {
   "cell_type": "code",
   "execution_count": 15,
   "metadata": {},
   "outputs": [],
   "source": [
    "nb_validation_samples = len(generator.filenames) "
   ]
  },
  {
   "cell_type": "code",
   "execution_count": 16,
   "metadata": {},
   "outputs": [],
   "source": [
    "predict_size_validation = int(math.ceil(nb_validation_samples / batch_size))"
   ]
  },
  {
   "cell_type": "code",
   "execution_count": 18,
   "metadata": {},
   "outputs": [],
   "source": [
    "bottleneck_features_validation = model.predict(  \n",
    "     generator, predict_size_validation)"
   ]
  },
  {
   "cell_type": "code",
   "execution_count": 19,
   "metadata": {},
   "outputs": [],
   "source": [
    "np.save('bottleneck_features_validation.npy', bottleneck_features_validation)  "
   ]
  },
  {
   "cell_type": "code",
   "execution_count": 20,
   "metadata": {},
   "outputs": [
    {
     "name": "stdout",
     "output_type": "stream",
     "text": [
      "Found 2000 images belonging to 2 classes.\n"
     ]
    }
   ],
   "source": [
    "# now we're ready to train our top model\n",
    "datagen_top = ImageDataGenerator(rescale=1./255)  \n",
    "generator_top = datagen_top.flow_from_directory(  \n",
    "        train_data_dir,  \n",
    "        target_size=(img_width, img_height),  \n",
    "        batch_size=batch_size,  \n",
    "        class_mode='categorical',  \n",
    "        shuffle=False)"
   ]
  },
  {
   "cell_type": "code",
   "execution_count": 21,
   "metadata": {},
   "outputs": [],
   "source": [
    "nb_train_samples = len(generator_top.filenames)  \n",
    "num_classes = len(generator_top.class_indices) "
   ]
  },
  {
   "cell_type": "code",
   "execution_count": 22,
   "metadata": {},
   "outputs": [],
   "source": [
    "# load the bottleneck features saved earlier  \n",
    "train_data = np.load('bottleneck_features_train.npy')"
   ]
  },
  {
   "cell_type": "code",
   "execution_count": 23,
   "metadata": {},
   "outputs": [],
   "source": [
    "# get the class lebels for the training data, in the original order  \n",
    "train_labels = generator_top.classes"
   ]
  },
  {
   "cell_type": "code",
   "execution_count": 24,
   "metadata": {},
   "outputs": [],
   "source": [
    "# convert the training labels to categorical vectors  \n",
    "train_labels = to_categorical(train_labels, num_classes=num_classes)  "
   ]
  },
  {
   "cell_type": "code",
   "execution_count": 25,
   "metadata": {},
   "outputs": [
    {
     "name": "stdout",
     "output_type": "stream",
     "text": [
      "Found 800 images belonging to 2 classes.\n"
     ]
    }
   ],
   "source": [
    "#We do the same for validation features\n",
    "generator_top = datagen_top.flow_from_directory(  \n",
    "        validation_data_dir,  \n",
    "        target_size=(img_width, img_height),  \n",
    "        batch_size=batch_size,  \n",
    "        class_mode=None,  \n",
    "        shuffle=False)"
   ]
  },
  {
   "cell_type": "code",
   "execution_count": 26,
   "metadata": {},
   "outputs": [],
   "source": [
    "nb_validation_samples = len(generator_top.filenames) "
   ]
  },
  {
   "cell_type": "code",
   "execution_count": 27,
   "metadata": {},
   "outputs": [],
   "source": [
    "validation_data = np.load('bottleneck_features_validation.npy')"
   ]
  },
  {
   "cell_type": "code",
   "execution_count": 28,
   "metadata": {},
   "outputs": [],
   "source": [
    "validation_labels = generator_top.classes  \n",
    "validation_labels = to_categorical(validation_labels, num_classes=num_classes)"
   ]
  },
  {
   "cell_type": "code",
   "execution_count": 30,
   "metadata": {},
   "outputs": [],
   "source": [
    "#  the top model - using the bottleneck features as input, with our classes as the classifier output.\n",
    "model = Sequential()  \n",
    "model.add(Flatten(input_shape=train_data.shape[1:]))  \n",
    "model.add(Dense(256, activation='relu'))  \n",
    "model.add(Dropout(0.5))  \n",
    "model.add(Dense(num_classes, activation='sigmoid'))\n"
   ]
  },
  {
   "cell_type": "code",
   "execution_count": 32,
   "metadata": {},
   "outputs": [],
   "source": [
    "model.compile(optimizer='adam',  \n",
    "            loss='categorical_crossentropy', metrics=['accuracy']) "
   ]
  },
  {
   "cell_type": "code",
   "execution_count": 33,
   "metadata": {},
   "outputs": [
    {
     "name": "stdout",
     "output_type": "stream",
     "text": [
      "Epoch 1/50\n",
      "125/125 [==============================] - 1s 11ms/step - loss: 0.5726 - accuracy: 0.7515 - val_loss: 0.3520 - val_accuracy: 0.8662\n",
      "Epoch 2/50\n",
      "125/125 [==============================] - 1s 10ms/step - loss: 0.3876 - accuracy: 0.8500 - val_loss: 0.2898 - val_accuracy: 0.8963\n",
      "Epoch 3/50\n",
      "125/125 [==============================] - 1s 10ms/step - loss: 0.2605 - accuracy: 0.8845 - val_loss: 0.2401 - val_accuracy: 0.9075\n",
      "Epoch 4/50\n",
      "125/125 [==============================] - 1s 10ms/step - loss: 0.1937 - accuracy: 0.9235 - val_loss: 0.2412 - val_accuracy: 0.9125\n",
      "Epoch 5/50\n",
      "125/125 [==============================] - 1s 10ms/step - loss: 0.1624 - accuracy: 0.9310 - val_loss: 0.2393 - val_accuracy: 0.8988\n",
      "Epoch 6/50\n",
      "125/125 [==============================] - 1s 10ms/step - loss: 0.1359 - accuracy: 0.9410 - val_loss: 0.2352 - val_accuracy: 0.9150\n",
      "Epoch 7/50\n",
      "125/125 [==============================] - 1s 11ms/step - loss: 0.1375 - accuracy: 0.9435 - val_loss: 0.2398 - val_accuracy: 0.9075\n",
      "Epoch 8/50\n",
      "125/125 [==============================] - 1s 10ms/step - loss: 0.1000 - accuracy: 0.9580 - val_loss: 0.3312 - val_accuracy: 0.8838\n",
      "Epoch 9/50\n",
      "125/125 [==============================] - 1s 10ms/step - loss: 0.1229 - accuracy: 0.9475 - val_loss: 0.3213 - val_accuracy: 0.8788\n",
      "Epoch 10/50\n",
      "125/125 [==============================] - 1s 10ms/step - loss: 0.0897 - accuracy: 0.9665 - val_loss: 0.2869 - val_accuracy: 0.8963\n",
      "Epoch 11/50\n",
      "125/125 [==============================] - 1s 10ms/step - loss: 0.0721 - accuracy: 0.9725 - val_loss: 0.2815 - val_accuracy: 0.8888\n",
      "Epoch 12/50\n",
      "125/125 [==============================] - 1s 11ms/step - loss: 0.0614 - accuracy: 0.9790 - val_loss: 0.2434 - val_accuracy: 0.9062\n",
      "Epoch 13/50\n",
      "125/125 [==============================] - 1s 10ms/step - loss: 0.0542 - accuracy: 0.9830 - val_loss: 0.3185 - val_accuracy: 0.8963\n",
      "Epoch 14/50\n",
      "125/125 [==============================] - 1s 10ms/step - loss: 0.0749 - accuracy: 0.9680 - val_loss: 0.2844 - val_accuracy: 0.8988\n",
      "Epoch 15/50\n",
      "125/125 [==============================] - 1s 10ms/step - loss: 0.0529 - accuracy: 0.9810 - val_loss: 0.3160 - val_accuracy: 0.8975\n",
      "Epoch 16/50\n",
      "125/125 [==============================] - 1s 10ms/step - loss: 0.0393 - accuracy: 0.9885 - val_loss: 0.3373 - val_accuracy: 0.9038\n",
      "Epoch 17/50\n",
      "125/125 [==============================] - 1s 10ms/step - loss: 0.0293 - accuracy: 0.9895 - val_loss: 0.3938 - val_accuracy: 0.9038\n",
      "Epoch 18/50\n",
      "125/125 [==============================] - 1s 10ms/step - loss: 0.0446 - accuracy: 0.9830 - val_loss: 0.3197 - val_accuracy: 0.8950\n",
      "Epoch 19/50\n",
      "125/125 [==============================] - 1s 10ms/step - loss: 0.0406 - accuracy: 0.9840 - val_loss: 0.3704 - val_accuracy: 0.9125\n",
      "Epoch 20/50\n",
      "125/125 [==============================] - 1s 10ms/step - loss: 0.0468 - accuracy: 0.9835 - val_loss: 0.3336 - val_accuracy: 0.9013\n",
      "Epoch 21/50\n",
      "125/125 [==============================] - 1s 10ms/step - loss: 0.0334 - accuracy: 0.9885 - val_loss: 0.3893 - val_accuracy: 0.9050\n",
      "Epoch 22/50\n",
      "125/125 [==============================] - 1s 11ms/step - loss: 0.0276 - accuracy: 0.9920 - val_loss: 0.4310 - val_accuracy: 0.9013\n",
      "Epoch 23/50\n",
      "125/125 [==============================] - 1s 10ms/step - loss: 0.0273 - accuracy: 0.9920 - val_loss: 0.3615 - val_accuracy: 0.9050\n",
      "Epoch 24/50\n",
      "125/125 [==============================] - 1s 10ms/step - loss: 0.0415 - accuracy: 0.9845 - val_loss: 0.2868 - val_accuracy: 0.9137\n",
      "Epoch 25/50\n",
      "125/125 [==============================] - 1s 10ms/step - loss: 0.0314 - accuracy: 0.9905 - val_loss: 0.3528 - val_accuracy: 0.9075\n",
      "Epoch 26/50\n",
      "125/125 [==============================] - 1s 10ms/step - loss: 0.0257 - accuracy: 0.9915 - val_loss: 0.3715 - val_accuracy: 0.9062\n",
      "Epoch 27/50\n",
      "125/125 [==============================] - 1s 10ms/step - loss: 0.0456 - accuracy: 0.9820 - val_loss: 0.4438 - val_accuracy: 0.8737\n",
      "Epoch 28/50\n",
      "125/125 [==============================] - 1s 10ms/step - loss: 0.0222 - accuracy: 0.9915 - val_loss: 0.4346 - val_accuracy: 0.9000\n",
      "Epoch 29/50\n",
      "125/125 [==============================] - 1s 10ms/step - loss: 0.0377 - accuracy: 0.9855 - val_loss: 0.4360 - val_accuracy: 0.8838\n",
      "Epoch 30/50\n",
      "125/125 [==============================] - 1s 10ms/step - loss: 0.0278 - accuracy: 0.9900 - val_loss: 0.4486 - val_accuracy: 0.9087\n",
      "Epoch 31/50\n",
      "125/125 [==============================] - 1s 10ms/step - loss: 0.0222 - accuracy: 0.9910 - val_loss: 0.3859 - val_accuracy: 0.8925\n",
      "Epoch 32/50\n",
      "125/125 [==============================] - 1s 10ms/step - loss: 0.0231 - accuracy: 0.9905 - val_loss: 0.4072 - val_accuracy: 0.9013\n",
      "Epoch 33/50\n",
      "125/125 [==============================] - 1s 10ms/step - loss: 0.0232 - accuracy: 0.9930 - val_loss: 0.3779 - val_accuracy: 0.9087\n",
      "Epoch 34/50\n",
      "125/125 [==============================] - 1s 10ms/step - loss: 0.0202 - accuracy: 0.9925 - val_loss: 0.4289 - val_accuracy: 0.8913\n",
      "Epoch 35/50\n",
      "125/125 [==============================] - 1s 10ms/step - loss: 0.0225 - accuracy: 0.9905 - val_loss: 0.5465 - val_accuracy: 0.9013\n",
      "Epoch 36/50\n",
      "125/125 [==============================] - 1s 11ms/step - loss: 0.0120 - accuracy: 0.9950 - val_loss: 0.5071 - val_accuracy: 0.9013\n",
      "Epoch 37/50\n",
      "125/125 [==============================] - 1s 11ms/step - loss: 0.0132 - accuracy: 0.9950 - val_loss: 0.4115 - val_accuracy: 0.9062\n",
      "Epoch 38/50\n",
      "125/125 [==============================] - 1s 11ms/step - loss: 0.0267 - accuracy: 0.9920 - val_loss: 0.4433 - val_accuracy: 0.9013\n",
      "Epoch 39/50\n",
      "125/125 [==============================] - 1s 10ms/step - loss: 0.0410 - accuracy: 0.9855 - val_loss: 0.4489 - val_accuracy: 0.9025\n",
      "Epoch 40/50\n",
      "125/125 [==============================] - 1s 11ms/step - loss: 0.0266 - accuracy: 0.9895 - val_loss: 0.4648 - val_accuracy: 0.8875\n",
      "Epoch 41/50\n",
      "125/125 [==============================] - 1s 11ms/step - loss: 0.0204 - accuracy: 0.9910 - val_loss: 0.4644 - val_accuracy: 0.9050\n",
      "Epoch 42/50\n",
      "125/125 [==============================] - 1s 11ms/step - loss: 0.0231 - accuracy: 0.9880 - val_loss: 0.4135 - val_accuracy: 0.9000\n",
      "Epoch 43/50\n",
      "125/125 [==============================] - 1s 10ms/step - loss: 0.0309 - accuracy: 0.9900 - val_loss: 0.4755 - val_accuracy: 0.8988\n",
      "Epoch 44/50\n",
      "125/125 [==============================] - 1s 11ms/step - loss: 0.0385 - accuracy: 0.9885 - val_loss: 0.4679 - val_accuracy: 0.8950\n",
      "Epoch 45/50\n",
      "125/125 [==============================] - 1s 10ms/step - loss: 0.0356 - accuracy: 0.9885 - val_loss: 0.4687 - val_accuracy: 0.9000\n",
      "Epoch 46/50\n",
      "125/125 [==============================] - 1s 11ms/step - loss: 0.0255 - accuracy: 0.9895 - val_loss: 0.4908 - val_accuracy: 0.8963\n",
      "Epoch 47/50\n",
      "125/125 [==============================] - 1s 11ms/step - loss: 0.0246 - accuracy: 0.9905 - val_loss: 0.5205 - val_accuracy: 0.8975\n",
      "Epoch 48/50\n",
      "125/125 [==============================] - 1s 11ms/step - loss: 0.0222 - accuracy: 0.9935 - val_loss: 0.4554 - val_accuracy: 0.9075\n",
      "Epoch 49/50\n",
      "125/125 [==============================] - 1s 11ms/step - loss: 0.0192 - accuracy: 0.9925 - val_loss: 0.5039 - val_accuracy: 0.8875\n",
      "Epoch 50/50\n",
      "125/125 [==============================] - 1s 11ms/step - loss: 0.0258 - accuracy: 0.9870 - val_loss: 0.4394 - val_accuracy: 0.8963\n"
     ]
    }
   ],
   "source": [
    "history = model.fit(train_data, train_labels,  \n",
    "        epochs=epochs,  \n",
    "        batch_size=batch_size,  \n",
    "        validation_data=(validation_data, validation_labels))\n",
    "# Great !! loss: 0.0258 - accuracy: 0.9870 on train and look at that convergence speed"
   ]
  },
  {
   "cell_type": "code",
   "execution_count": 34,
   "metadata": {},
   "outputs": [
    {
     "name": "stdout",
     "output_type": "stream",
     "text": [
      "50/50 [==============================] - 0s 3ms/step - loss: 0.4394 - accuracy: 0.8963\n"
     ]
    }
   ],
   "source": [
    "(eval_loss, eval_accuracy) = model.evaluate(  \n",
    "     validation_data, validation_labels, batch_size=batch_size, verbose=1)"
   ]
  },
  {
   "cell_type": "code",
   "execution_count": 35,
   "metadata": {},
   "outputs": [
    {
     "name": "stdout",
     "output_type": "stream",
     "text": [
      "[INFO] accuracy: 89.63%\n"
     ]
    }
   ],
   "source": [
    "print(\"[INFO] accuracy: {:.2f}%\".format(eval_accuracy * 100))"
   ]
  },
  {
   "cell_type": "code",
   "execution_count": 36,
   "metadata": {},
   "outputs": [
    {
     "name": "stdout",
     "output_type": "stream",
     "text": [
      "[INFO] Loss: 0.439431369304657\n"
     ]
    }
   ],
   "source": [
    "print(\"[INFO] Loss: {}\".format(eval_loss))"
   ]
  },
  {
   "cell_type": "code",
   "execution_count": null,
   "metadata": {},
   "outputs": [],
   "source": []
  },
  {
   "cell_type": "code",
   "execution_count": null,
   "metadata": {},
   "outputs": [],
   "source": []
  },
  {
   "cell_type": "code",
   "execution_count": null,
   "metadata": {},
   "outputs": [],
   "source": []
  },
  {
   "cell_type": "code",
   "execution_count": null,
   "metadata": {},
   "outputs": [],
   "source": []
  }
 ],
 "metadata": {
  "kernelspec": {
   "display_name": "Python 3",
   "language": "python",
   "name": "python3"
  },
  "language_info": {
   "codemirror_mode": {
    "name": "ipython",
    "version": 3
   },
   "file_extension": ".py",
   "mimetype": "text/x-python",
   "name": "python",
   "nbconvert_exporter": "python",
   "pygments_lexer": "ipython3",
   "version": "3.6.5"
  }
 },
 "nbformat": 4,
 "nbformat_minor": 4
}
