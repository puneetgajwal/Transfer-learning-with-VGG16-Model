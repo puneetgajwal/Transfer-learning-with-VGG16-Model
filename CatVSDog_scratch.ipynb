{
 "cells": [
  {
   "cell_type": "code",
   "execution_count": 1,
   "metadata": {},
   "outputs": [],
   "source": [
    "from keras.preprocessing.image import ImageDataGenerator\n",
    "from keras.models import Sequential\n",
    "from keras.layers import Conv2D, MaxPooling2D\n",
    "from keras.layers import Activation, Dropout, Flatten, Dense\n",
    "from keras import backend as K\n",
    "import cv2\n",
    "import os\n",
    "import numpy as np\n",
    "import pandas as pd"
   ]
  },
  {
   "cell_type": "code",
   "execution_count": 31,
   "metadata": {},
   "outputs": [],
   "source": [
    "# dimensions of our images.\n",
    "img_width, img_height = 150, 150"
   ]
  },
  {
   "cell_type": "code",
   "execution_count": 40,
   "metadata": {},
   "outputs": [],
   "source": [
    "# Setting up few parameters\n",
    "train_data_dir = 'data/train'\n",
    "validation_data_dir = 'data/test'\n",
    "nb_train_samples = 2000\n",
    "nb_validation_samples = 800\n",
    "epochs = 50\n",
    "batch_size = 16"
   ]
  },
  {
   "cell_type": "code",
   "execution_count": 41,
   "metadata": {},
   "outputs": [],
   "source": [
    "# Defining image inpur shape\n",
    "#channels_first is for theano and channels_last for tensorflow\n",
    "if K.image_data_format() == 'channels_first':\n",
    "    input_shape = (3, img_width, img_height)\n",
    "else:\n",
    "    input_shape = (img_width, img_height, 3)"
   ]
  },
  {
   "cell_type": "code",
   "execution_count": 42,
   "metadata": {},
   "outputs": [],
   "source": [
    "## SEQUENTIAL MODEL ##\n",
    "\n",
    "#Layer 1\n",
    "model = Sequential()\n",
    "model.add(Conv2D(48, (3, 3), input_shape=input_shape))\n",
    "model.add(Activation('relu'))\n",
    "model.add(MaxPooling2D(pool_size=(2, 2)))\n",
    "\n",
    "#Layer 2\n",
    "model = Sequential()\n",
    "model.add(Conv2D(48, (3, 3), input_shape=input_shape))\n",
    "model.add(Activation('relu'))\n",
    "model.add(MaxPooling2D(pool_size=(2, 2)))\n",
    "          \n",
    "# Flatten and Sigmoid Layer with dropout\n",
    "model.add(Flatten())\n",
    "model.add(Dense(72))\n",
    "model.add(Activation('relu'))\n",
    "model.add(Dropout(0.4))\n",
    "model.add(Dense(1))\n",
    "model.add(Activation('sigmoid'))"
   ]
  },
  {
   "cell_type": "code",
   "execution_count": 43,
   "metadata": {},
   "outputs": [],
   "source": [
    "# Compiling the model\n",
    "model.compile(loss='binary_crossentropy',\n",
    "              optimizer='adam',\n",
    "              metrics=['accuracy'])"
   ]
  },
  {
   "cell_type": "code",
   "execution_count": 44,
   "metadata": {},
   "outputs": [],
   "source": [
    "# We need to augment our data to capture all aspects of image since we're just training on 2K images\n",
    "train_aug = ImageDataGenerator(\n",
    "    rescale=1. / 255,\n",
    "    shear_range=0.2,\n",
    "    zoom_range=0.2,\n",
    "    horizontal_flip=True)"
   ]
  },
  {
   "cell_type": "code",
   "execution_count": 45,
   "metadata": {},
   "outputs": [],
   "source": [
    "# For test data, we are just using rescaling\n",
    "test_aug = ImageDataGenerator(rescale=1. / 255)"
   ]
  },
  {
   "cell_type": "code",
   "execution_count": 46,
   "metadata": {},
   "outputs": [
    {
     "name": "stdout",
     "output_type": "stream",
     "text": [
      "Found 2000 images belonging to 2 classes.\n"
     ]
    }
   ],
   "source": [
    "train_generator = train_aug.flow_from_directory(\n",
    "    train_data_dir,\n",
    "    target_size=(img_width, img_height),\n",
    "    batch_size=batch_size,\n",
    "    class_mode='binary')"
   ]
  },
  {
   "cell_type": "code",
   "execution_count": 47,
   "metadata": {},
   "outputs": [
    {
     "name": "stdout",
     "output_type": "stream",
     "text": [
      "Found 800 images belonging to 2 classes.\n"
     ]
    }
   ],
   "source": [
    "validation_generator = test_aug.flow_from_directory(\n",
    "    validation_data_dir,\n",
    "    target_size=(img_width, img_height),\n",
    "    batch_size=batch_size,\n",
    "    class_mode='binary')"
   ]
  },
  {
   "cell_type": "code",
   "execution_count": 48,
   "metadata": {},
   "outputs": [
    {
     "name": "stdout",
     "output_type": "stream",
     "text": [
      "Epoch 1/50\n",
      "125/125 [==============================] - 39s 310ms/step - loss: 0.9979 - accuracy: 0.5010 - val_loss: 0.6918 - val_accuracy: 0.5337\n",
      "Epoch 2/50\n",
      "125/125 [==============================] - 39s 312ms/step - loss: 0.6938 - accuracy: 0.5060 - val_loss: 0.6885 - val_accuracy: 0.6263\n",
      "Epoch 3/50\n",
      "125/125 [==============================] - 39s 316ms/step - loss: 0.6908 - accuracy: 0.5500 - val_loss: 0.6769 - val_accuracy: 0.6313\n",
      "Epoch 4/50\n",
      "125/125 [==============================] - 39s 315ms/step - loss: 0.6769 - accuracy: 0.5440 - val_loss: 0.6673 - val_accuracy: 0.5663\n",
      "Epoch 5/50\n",
      "125/125 [==============================] - 39s 313ms/step - loss: 0.6609 - accuracy: 0.5935 - val_loss: 0.6366 - val_accuracy: 0.6212\n",
      "Epoch 6/50\n",
      "125/125 [==============================] - 40s 317ms/step - loss: 0.6570 - accuracy: 0.6365 - val_loss: 0.6282 - val_accuracy: 0.6538\n",
      "Epoch 7/50\n",
      "125/125 [==============================] - 40s 320ms/step - loss: 0.6251 - accuracy: 0.6475 - val_loss: 0.6057 - val_accuracy: 0.6988\n",
      "Epoch 8/50\n",
      "125/125 [==============================] - 41s 327ms/step - loss: 0.6059 - accuracy: 0.6840 - val_loss: 0.5918 - val_accuracy: 0.6963\n",
      "Epoch 9/50\n",
      "125/125 [==============================] - 41s 326ms/step - loss: 0.5860 - accuracy: 0.7070 - val_loss: 0.5728 - val_accuracy: 0.7013\n",
      "Epoch 10/50\n",
      "125/125 [==============================] - 41s 330ms/step - loss: 0.5744 - accuracy: 0.7105 - val_loss: 0.5981 - val_accuracy: 0.6700\n",
      "Epoch 11/50\n",
      "125/125 [==============================] - 41s 326ms/step - loss: 0.5499 - accuracy: 0.7245 - val_loss: 0.5842 - val_accuracy: 0.7038\n",
      "Epoch 12/50\n",
      "125/125 [==============================] - 41s 326ms/step - loss: 0.5325 - accuracy: 0.7365 - val_loss: 0.6058 - val_accuracy: 0.7025\n",
      "Epoch 13/50\n",
      "125/125 [==============================] - 40s 320ms/step - loss: 0.5144 - accuracy: 0.7530 - val_loss: 0.6206 - val_accuracy: 0.6925\n",
      "Epoch 14/50\n",
      "125/125 [==============================] - 39s 315ms/step - loss: 0.5329 - accuracy: 0.7480 - val_loss: 0.6590 - val_accuracy: 0.6938\n",
      "Epoch 15/50\n",
      "125/125 [==============================] - 40s 316ms/step - loss: 0.5080 - accuracy: 0.7455 - val_loss: 0.6151 - val_accuracy: 0.7013\n",
      "Epoch 16/50\n",
      "125/125 [==============================] - 40s 321ms/step - loss: 0.4997 - accuracy: 0.7620 - val_loss: 0.5958 - val_accuracy: 0.7113\n",
      "Epoch 17/50\n",
      "125/125 [==============================] - 41s 329ms/step - loss: 0.4766 - accuracy: 0.7845 - val_loss: 0.6040 - val_accuracy: 0.7200\n",
      "Epoch 18/50\n",
      "125/125 [==============================] - 41s 326ms/step - loss: 0.4634 - accuracy: 0.7840 - val_loss: 0.5767 - val_accuracy: 0.7113\n",
      "Epoch 19/50\n",
      "125/125 [==============================] - 40s 322ms/step - loss: 0.4541 - accuracy: 0.7755 - val_loss: 0.5886 - val_accuracy: 0.7225\n",
      "Epoch 20/50\n",
      "125/125 [==============================] - 39s 309ms/step - loss: 0.4564 - accuracy: 0.7935 - val_loss: 0.5951 - val_accuracy: 0.7050\n",
      "Epoch 21/50\n",
      "125/125 [==============================] - 39s 312ms/step - loss: 0.4321 - accuracy: 0.8090 - val_loss: 0.6320 - val_accuracy: 0.7050\n",
      "Epoch 22/50\n",
      "125/125 [==============================] - 39s 309ms/step - loss: 0.4113 - accuracy: 0.8135 - val_loss: 0.6356 - val_accuracy: 0.7300\n",
      "Epoch 23/50\n",
      "125/125 [==============================] - 38s 307ms/step - loss: 0.4247 - accuracy: 0.8105 - val_loss: 0.6261 - val_accuracy: 0.7287\n",
      "Epoch 24/50\n",
      "125/125 [==============================] - 39s 309ms/step - loss: 0.4177 - accuracy: 0.8020 - val_loss: 0.6283 - val_accuracy: 0.7375\n",
      "Epoch 25/50\n",
      "125/125 [==============================] - 39s 314ms/step - loss: 0.3817 - accuracy: 0.8315 - val_loss: 0.6812 - val_accuracy: 0.7050\n",
      "Epoch 26/50\n",
      "125/125 [==============================] - 40s 318ms/step - loss: 0.4042 - accuracy: 0.8210 - val_loss: 0.6523 - val_accuracy: 0.7212\n",
      "Epoch 27/50\n",
      "125/125 [==============================] - 39s 313ms/step - loss: 0.3809 - accuracy: 0.8210 - val_loss: 0.6802 - val_accuracy: 0.7200\n",
      "Epoch 28/50\n",
      "125/125 [==============================] - 39s 310ms/step - loss: 0.3793 - accuracy: 0.8270 - val_loss: 0.6900 - val_accuracy: 0.7237\n",
      "Epoch 29/50\n",
      "125/125 [==============================] - 38s 307ms/step - loss: 0.3591 - accuracy: 0.8505 - val_loss: 0.6840 - val_accuracy: 0.7225\n",
      "Epoch 30/50\n",
      "125/125 [==============================] - 39s 309ms/step - loss: 0.3492 - accuracy: 0.8460 - val_loss: 0.6814 - val_accuracy: 0.7225\n",
      "Epoch 31/50\n",
      "125/125 [==============================] - 39s 311ms/step - loss: 0.3405 - accuracy: 0.8470 - val_loss: 0.6609 - val_accuracy: 0.7150\n",
      "Epoch 32/50\n",
      "125/125 [==============================] - 39s 314ms/step - loss: 0.3342 - accuracy: 0.8560 - val_loss: 0.8064 - val_accuracy: 0.7188\n",
      "Epoch 33/50\n",
      "125/125 [==============================] - 38s 307ms/step - loss: 0.3349 - accuracy: 0.8495 - val_loss: 0.7044 - val_accuracy: 0.7212\n",
      "Epoch 34/50\n",
      "125/125 [==============================] - 39s 309ms/step - loss: 0.3279 - accuracy: 0.8530 - val_loss: 0.7004 - val_accuracy: 0.7125\n",
      "Epoch 35/50\n",
      "125/125 [==============================] - 39s 313ms/step - loss: 0.3068 - accuracy: 0.8705 - val_loss: 0.8282 - val_accuracy: 0.7063\n",
      "Epoch 36/50\n",
      "125/125 [==============================] - 39s 313ms/step - loss: 0.3048 - accuracy: 0.8730 - val_loss: 0.7733 - val_accuracy: 0.7200\n",
      "Epoch 37/50\n",
      "125/125 [==============================] - 39s 313ms/step - loss: 0.3051 - accuracy: 0.8780 - val_loss: 0.7735 - val_accuracy: 0.7212\n",
      "Epoch 38/50\n",
      "125/125 [==============================] - 38s 307ms/step - loss: 0.2861 - accuracy: 0.8815 - val_loss: 0.8332 - val_accuracy: 0.7088\n",
      "Epoch 39/50\n",
      "125/125 [==============================] - 39s 310ms/step - loss: 0.2949 - accuracy: 0.8800 - val_loss: 0.7414 - val_accuracy: 0.7250\n",
      "Epoch 40/50\n",
      "125/125 [==============================] - 39s 308ms/step - loss: 0.2886 - accuracy: 0.8865 - val_loss: 0.7519 - val_accuracy: 0.7237\n",
      "Epoch 41/50\n",
      "125/125 [==============================] - 38s 306ms/step - loss: 0.2821 - accuracy: 0.8830 - val_loss: 0.8313 - val_accuracy: 0.7225\n",
      "Epoch 42/50\n",
      "125/125 [==============================] - 39s 308ms/step - loss: 0.2695 - accuracy: 0.8820 - val_loss: 0.8995 - val_accuracy: 0.7362\n",
      "Epoch 43/50\n",
      "125/125 [==============================] - 39s 309ms/step - loss: 0.2514 - accuracy: 0.8945 - val_loss: 0.9119 - val_accuracy: 0.7125\n",
      "Epoch 44/50\n",
      "125/125 [==============================] - 38s 304ms/step - loss: 0.2760 - accuracy: 0.8850 - val_loss: 0.7939 - val_accuracy: 0.7188\n",
      "Epoch 45/50\n",
      "125/125 [==============================] - 39s 308ms/step - loss: 0.2511 - accuracy: 0.9025 - val_loss: 0.8972 - val_accuracy: 0.7138\n",
      "Epoch 46/50\n",
      "125/125 [==============================] - 38s 306ms/step - loss: 0.2446 - accuracy: 0.8960 - val_loss: 0.8926 - val_accuracy: 0.7212\n",
      "Epoch 47/50\n",
      "125/125 [==============================] - 38s 306ms/step - loss: 0.2256 - accuracy: 0.9070 - val_loss: 0.9445 - val_accuracy: 0.7138\n",
      "Epoch 48/50\n",
      "125/125 [==============================] - 38s 304ms/step - loss: 0.2445 - accuracy: 0.9040 - val_loss: 0.8742 - val_accuracy: 0.7063\n",
      "Epoch 49/50\n",
      "125/125 [==============================] - 38s 308ms/step - loss: 0.2450 - accuracy: 0.8940 - val_loss: 0.9851 - val_accuracy: 0.7163\n",
      "Epoch 50/50\n",
      "125/125 [==============================] - 39s 309ms/step - loss: 0.2200 - accuracy: 0.9085 - val_loss: 1.0928 - val_accuracy: 0.7362\n"
     ]
    },
    {
     "data": {
      "text/plain": [
       "<tensorflow.python.keras.callbacks.History at 0x26805150208>"
      ]
     },
     "execution_count": 48,
     "metadata": {},
     "output_type": "execute_result"
    }
   ],
   "source": [
    "model.fit_generator(\n",
    "    train_generator,\n",
    "    steps_per_epoch=nb_train_samples // batch_size,\n",
    "    epochs=epochs,\n",
    "    validation_data=validation_generator,\n",
    "    validation_steps=nb_validation_samples // batch_size)\n",
    "# WoW !! We have loss: 0.2200 - accuracy: 0.9085. \n",
    "# Remember, we just used 2k images"
   ]
  },
  {
   "cell_type": "code",
   "execution_count": null,
   "metadata": {},
   "outputs": [],
   "source": []
  },
  {
   "cell_type": "code",
   "execution_count": null,
   "metadata": {},
   "outputs": [],
   "source": []
  },
  {
   "cell_type": "code",
   "execution_count": null,
   "metadata": {},
   "outputs": [],
   "source": []
  }
 ],
 "metadata": {
  "kernelspec": {
   "display_name": "Python 3",
   "language": "python",
   "name": "python3"
  },
  "language_info": {
   "codemirror_mode": {
    "name": "ipython",
    "version": 3
   },
   "file_extension": ".py",
   "mimetype": "text/x-python",
   "name": "python",
   "nbconvert_exporter": "python",
   "pygments_lexer": "ipython3",
   "version": "3.6.5"
  }
 },
 "nbformat": 4,
 "nbformat_minor": 4
}
